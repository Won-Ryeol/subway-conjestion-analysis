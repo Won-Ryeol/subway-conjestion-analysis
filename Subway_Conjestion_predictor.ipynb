{
  "nbformat": 4,
  "nbformat_minor": 0,
  "metadata": {
    "colab": {
      "name": "Subway Conjestion predictor.ipynb",
      "provenance": [],
      "collapsed_sections": []
    },
    "kernelspec": {
      "name": "python3",
      "display_name": "Python 3"
    },
    "accelerator": "GPU"
  },
  "cells": [
    {
      "cell_type": "code",
      "metadata": {
        "id": "-IvKNZUpFtGC"
      },
      "source": [
        "import numpy as np\n",
        "import matplotlib.pyplot as plt\n",
        "\n",
        "np.random.seed(0)\n",
        "\n",
        "#perceptron class 선언\n",
        "class Perceptron:\n",
        "    #초기조건 : input,hiddin,output 차원 및 learning rate 등 설정. 특히, w1,w2는 정규분포상에서 랜덤추출한다.\n",
        "    def __init__(self, input_dim, hidden_dim, output_dim, Ir):\n",
        "        self.w1 = np.random.normal(0.0, pow(hidden_dim, -0.5), (input_dim, hidden_dim))\n",
        "        self.w2 = np.random.normal(0.0, pow(hidden_dim, -0.5), (hidden_dim,output_dim))\n",
        "        self.h = np.zeros((1,hidden_dim)) #처음에 0으로 둔다. hidden layer.\n",
        "        self.lr = lr\n",
        "        self.input_dim = input_dim\n",
        "        self.hidden_dim = hidden_dim\n",
        "        self.output_dim = output_dim\n",
        "        self.theta = 0\n",
        "    #sigmoid함수 정의\n",
        "    def sigmoid(self, x):\n",
        "        return 1/(1+np.exp(-x))\n",
        "    #x를 y로 보내는 함수\n",
        "    def feedforward(self, x):\n",
        "        a = x.astype(float) #float로 저장\n",
        "        b = self.w1.astype(float)\n",
        "        self.h = self.sigmoid(np.dot(a,b)-self.theta)\n",
        "        return self.sigmoid(np.dot(self.h, self.w2)-self.theta)\n",
        "    #x를 h로 보내는 함수\n",
        "    def feedforward_upto_hidden(self, x):\n",
        "        return self.sigmoid(np.dot(x, self.w1)-self.theta)\n",
        "    #w2에 대한 back propagation. \n",
        "    def bprop_w2(self, g, y): #g,y는 vector\n",
        "        q = (-2)*(g-y)*y*(1-y)\n",
        "        return np.dot(self.h.reshape(self.hidden_dim,1),q.reshape(1,self.output_dim))\n",
        "    #w1에 대한 back propagation.    \n",
        "    def bprop_w1(self, g, y,x): #g,y는 vector\n",
        "        q1 = (-2)*(g-y)*y*(1-y)\n",
        "        q2 = np.dot(self.w2, q1)\n",
        "        return np.dot(x.reshape(self.input_dim,1),q2*self.h*(1-self.h).reshape(1,self.hidden_dim))\n",
        "    #target을 지정해서 input과의 비교하며 훈련\n",
        "    def training(self, input, target):\n",
        "        x = np.array(input).T\n",
        "        y = self.feedforward(x)\n",
        "        g = np.array(target).T\n",
        "        self.w1 = self.w1 - self.lr*self.bprop_w1(g,y,x) #bprop_w1에 w2가 사용되므로, w1을 먼저!\n",
        "        self.w2 = self.w2 - self.lr*self.bprop_w2(g,y)"
      ],
      "execution_count": null,
      "outputs": []
    },
    {
      "cell_type": "code",
      "metadata": {
        "id": "fX3OFgUsFwT-"
      },
      "source": [
        "#Perceptron의 init 설정\n",
        "input_dim = 4\n",
        "hidden_dim = 2000\n",
        "output_dim = 10\n",
        "lr=0.1\n",
        "epoch = 10\n",
        "pct = Perceptron(input_dim,hidden_dim,output_dim,lr)"
      ],
      "execution_count": null,
      "outputs": []
    },
    {
      "cell_type": "code",
      "metadata": {
        "id": "9NKiGS4UhHFS",
        "colab": {
          "base_uri": "https://localhost:8080/",
          "height": 125
        },
        "outputId": "f5a22c09-d7a7-400f-ff39-d0a9c90dd853"
      },
      "source": [
        "#파일 불러오기\n",
        "from google.colab import drive\n",
        "drive.mount('/content/gdrive')"
      ],
      "execution_count": null,
      "outputs": [
        {
          "output_type": "stream",
          "text": [
            "Go to this URL in a browser: https://accounts.google.com/o/oauth2/auth?client_id=947318989803-6bn6qk8qdgf4n4g3pfee6491hc0brc4i.apps.googleusercontent.com&redirect_uri=urn%3aietf%3awg%3aoauth%3a2.0%3aoob&response_type=code&scope=email%20https%3a%2f%2fwww.googleapis.com%2fauth%2fdocs.test%20https%3a%2f%2fwww.googleapis.com%2fauth%2fdrive%20https%3a%2f%2fwww.googleapis.com%2fauth%2fdrive.photos.readonly%20https%3a%2f%2fwww.googleapis.com%2fauth%2fpeopleapi.readonly\n",
            "\n",
            "Enter your authorization code:\n",
            "··········\n",
            "Mounted at /content/gdrive\n"
          ],
          "name": "stdout"
        }
      ]
    },
    {
      "cell_type": "code",
      "metadata": {
        "id": "gqIbqcHNhKHj"
      },
      "source": [
        "training_dataset_file = open(\"/content/gdrive/My Drive/line1_preprocessed by index.csv\",'r',encoding='utf-8-sig')\n",
        "\n",
        "training_dataset_list = training_dataset_file.readlines()\n",
        "training_dataset_file.close()\n",
        "input_list = list()"
      ],
      "execution_count": null,
      "outputs": []
    },
    {
      "cell_type": "code",
      "metadata": {
        "id": "bnh0j9kDm5JR",
        "colab": {
          "base_uri": "https://localhost:8080/",
          "height": 34
        },
        "outputId": "718b7c35-f4c7-45d8-fecf-a2f262eb3631"
      },
      "source": [
        "index = 2\n",
        "(float)(training_dataset_list[index].split(',')[0])\n",
        "#training_dataset_list"
      ],
      "execution_count": null,
      "outputs": [
        {
          "output_type": "execute_result",
          "data": {
            "text/plain": [
              "1.0"
            ]
          },
          "metadata": {
            "tags": []
          },
          "execution_count": 19
        }
      ]
    },
    {
      "cell_type": "code",
      "metadata": {
        "id": "LX1Num5Uhpaw",
        "colab": {
          "base_uri": "https://localhost:8080/",
          "height": 34
        },
        "outputId": "dd0c7e21-4c3c-45c6-fc92-60d0c4894958"
      },
      "source": [
        "from google.colab import output\n",
        "\n",
        "for k in range(epoch):\n",
        "    #learning rate decreasing\n",
        "    pct.lr = pct.lr *0.8\n",
        "    counter = 0\n",
        "    for i in training_dataset_list:\n",
        "        all_values = i.split(',')\n",
        "\n",
        "        month = (int)(all_values[0])\n",
        "        day = (int)(all_values[1])\n",
        "        station_num = (int)(all_values[2])\n",
        "        for j in range(1,21):\n",
        "            inputs = np.asfarray([month, day, station_num, 0.5*j])\n",
        "            targets = np.zeros(output_dim) + 0.01\n",
        "            targets[int(all_values[j+2])-1] = 0.99\n",
        "            pct.training(inputs, targets)\n",
        "        if(counter%1000==0):\n",
        "            output.clear()\n",
        "            print(counter, \"of\", len(training_dataset_list), \"for epoch\", k)\n",
        "        counter = counter+ 1"
      ],
      "execution_count": null,
      "outputs": [
        {
          "output_type": "stream",
          "text": [
            "40000 of 40180 for epoch 9\n"
          ],
          "name": "stdout"
        }
      ]
    },
    {
      "cell_type": "code",
      "metadata": {
        "id": "Mn6OgRegeRxo",
        "colab": {
          "base_uri": "https://localhost:8080/",
          "height": 17
        },
        "outputId": "c68912b4-e1f8-408a-dd33-5adf0507ac02"
      },
      "source": [
        "#학습한 가중치 저장\n",
        "from google.colab import files\n",
        "import pandas as pd\n",
        "import numpy\n",
        "\n",
        "w1_file = numpy.asarray(pct.w1)\n",
        "pd.DataFrame(w1_file).to_csv(\"weight1.csv\", header=None, index=None)\n",
        "w2_file = numpy.asarray(pct.w2)\n",
        "pd.DataFrame(w2_file).to_csv(\"weight2.csv\", header=None, index=None)\n",
        "\n",
        "files.download('weight1.csv')\n",
        "files.download('weight2.csv')"
      ],
      "execution_count": null,
      "outputs": [
        {
          "output_type": "display_data",
          "data": {
            "application/javascript": [
              "\n",
              "    async function download(id, filename, size) {\n",
              "      if (!google.colab.kernel.accessAllowed) {\n",
              "        return;\n",
              "      }\n",
              "      const div = document.createElement('div');\n",
              "      const label = document.createElement('label');\n",
              "      label.textContent = `Downloading \"${filename}\": `;\n",
              "      div.appendChild(label);\n",
              "      const progress = document.createElement('progress');\n",
              "      progress.max = size;\n",
              "      div.appendChild(progress);\n",
              "      document.body.appendChild(div);\n",
              "\n",
              "      const buffers = [];\n",
              "      let downloaded = 0;\n",
              "\n",
              "      const channel = await google.colab.kernel.comms.open(id);\n",
              "      // Send a message to notify the kernel that we're ready.\n",
              "      channel.send({})\n",
              "\n",
              "      for await (const message of channel.messages) {\n",
              "        // Send a message to notify the kernel that we're ready.\n",
              "        channel.send({})\n",
              "        if (message.buffers) {\n",
              "          for (const buffer of message.buffers) {\n",
              "            buffers.push(buffer);\n",
              "            downloaded += buffer.byteLength;\n",
              "            progress.value = downloaded;\n",
              "          }\n",
              "        }\n",
              "      }\n",
              "      const blob = new Blob(buffers, {type: 'application/binary'});\n",
              "      const a = document.createElement('a');\n",
              "      a.href = window.URL.createObjectURL(blob);\n",
              "      a.download = filename;\n",
              "      div.appendChild(a);\n",
              "      a.click();\n",
              "      div.remove();\n",
              "    }\n",
              "  "
            ],
            "text/plain": [
              "<IPython.core.display.Javascript object>"
            ]
          },
          "metadata": {
            "tags": []
          }
        },
        {
          "output_type": "display_data",
          "data": {
            "application/javascript": [
              "download(\"download_47a38ff0-30d3-4b66-bde4-2012f742d2d6\", \"weight1.csv\", 170582)"
            ],
            "text/plain": [
              "<IPython.core.display.Javascript object>"
            ]
          },
          "metadata": {
            "tags": []
          }
        },
        {
          "output_type": "display_data",
          "data": {
            "application/javascript": [
              "\n",
              "    async function download(id, filename, size) {\n",
              "      if (!google.colab.kernel.accessAllowed) {\n",
              "        return;\n",
              "      }\n",
              "      const div = document.createElement('div');\n",
              "      const label = document.createElement('label');\n",
              "      label.textContent = `Downloading \"${filename}\": `;\n",
              "      div.appendChild(label);\n",
              "      const progress = document.createElement('progress');\n",
              "      progress.max = size;\n",
              "      div.appendChild(progress);\n",
              "      document.body.appendChild(div);\n",
              "\n",
              "      const buffers = [];\n",
              "      let downloaded = 0;\n",
              "\n",
              "      const channel = await google.colab.kernel.comms.open(id);\n",
              "      // Send a message to notify the kernel that we're ready.\n",
              "      channel.send({})\n",
              "\n",
              "      for await (const message of channel.messages) {\n",
              "        // Send a message to notify the kernel that we're ready.\n",
              "        channel.send({})\n",
              "        if (message.buffers) {\n",
              "          for (const buffer of message.buffers) {\n",
              "            buffers.push(buffer);\n",
              "            downloaded += buffer.byteLength;\n",
              "            progress.value = downloaded;\n",
              "          }\n",
              "        }\n",
              "      }\n",
              "      const blob = new Blob(buffers, {type: 'application/binary'});\n",
              "      const a = document.createElement('a');\n",
              "      a.href = window.URL.createObjectURL(blob);\n",
              "      a.download = filename;\n",
              "      div.appendChild(a);\n",
              "      a.click();\n",
              "      div.remove();\n",
              "    }\n",
              "  "
            ],
            "text/plain": [
              "<IPython.core.display.Javascript object>"
            ]
          },
          "metadata": {
            "tags": []
          }
        },
        {
          "output_type": "display_data",
          "data": {
            "application/javascript": [
              "download(\"download_2e03b3f2-b051-4495-8ba5-e48edb88b10b\", \"weight2.csv\", 426275)"
            ],
            "text/plain": [
              "<IPython.core.display.Javascript object>"
            ]
          },
          "metadata": {
            "tags": []
          }
        }
      ]
    },
    {
      "cell_type": "code",
      "metadata": {
        "id": "8FcBq6nrjibM",
        "colab": {
          "resources": {
            "http://localhost:8080/nbextensions/google.colab/files.js": {
              "data": "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",
              "ok": true,
              "headers": [
                [
                  "content-type",
                  "application/javascript"
                ]
              ],
              "status": 200,
              "status_text": ""
            }
          },
          "base_uri": "https://localhost:8080/",
          "height": 110
        },
        "outputId": "1cc0042a-a814-4dab-e7ca-289b9e378bdb"
      },
      "source": [
        "#학습한 가중치 불러오기\n",
        "from google.colab import files\n",
        "uploaded = files.upload()"
      ],
      "execution_count": null,
      "outputs": [
        {
          "output_type": "display_data",
          "data": {
            "text/html": [
              "\n",
              "     <input type=\"file\" id=\"files-718afa23-d2a3-4a71-a968-f196561e89f9\" name=\"files[]\" multiple disabled\n",
              "        style=\"border:none\" />\n",
              "     <output id=\"result-718afa23-d2a3-4a71-a968-f196561e89f9\">\n",
              "      Upload widget is only available when the cell has been executed in the\n",
              "      current browser session. Please rerun this cell to enable.\n",
              "      </output>\n",
              "      <script src=\"/nbextensions/google.colab/files.js\"></script> "
            ],
            "text/plain": [
              "<IPython.core.display.HTML object>"
            ]
          },
          "metadata": {
            "tags": []
          }
        },
        {
          "output_type": "stream",
          "text": [
            "Saving weight1.csv to weight1.csv\n",
            "Saving weight2.csv to weight2.csv\n"
          ],
          "name": "stdout"
        }
      ]
    },
    {
      "cell_type": "code",
      "metadata": {
        "id": "ePSIh8RZjwc3"
      },
      "source": [
        "dataset_file = open(\"weight1.csv\",'r',encoding='utf-8-sig')\n",
        "w1_load = dataset_file.readlines()\n",
        "dataset_file.close()\n",
        "dataset_file = open(\"weight2.csv\",'r',encoding='utf-8-sig')\n",
        "w2_load = dataset_file.readlines()\n",
        "dataset_file.close()"
      ],
      "execution_count": null,
      "outputs": []
    },
    {
      "cell_type": "code",
      "metadata": {
        "id": "PyEeM3UmlpUS"
      },
      "source": [
        "for i in range(input_dim):\n",
        "    for j in range(hidden_dim):\n",
        "        pct.w1[i][j] = (float)(w1_load[i].split(',')[j])\n",
        "for i in range(hidden_dim):\n",
        "    for j in range(output_dim):\n",
        "        pct.w2[i][j] = (float)(w2_load[i].split(',')[j])"
      ],
      "execution_count": null,
      "outputs": []
    },
    {
      "cell_type": "code",
      "metadata": {
        "id": "MkHOmwCu4KjU",
        "colab": {
          "base_uri": "https://localhost:8080/",
          "height": 158
        },
        "outputId": "47bf9b7d-282e-4fcd-dc1a-e4a8dcd8e5bf"
      },
      "source": [
        "pct.w1"
      ],
      "execution_count": null,
      "outputs": [
        {
          "output_type": "execute_result",
          "data": {
            "text/plain": [
              "array([[ 0.53247183,  0.08069548,  0.03487169, ...,  0.04175535,\n",
              "         0.01850182,  0.03840401],\n",
              "       [-1.42391146, -0.22051869, -0.16979814, ..., -0.05528614,\n",
              "        -0.11654806, -0.18222274],\n",
              "       [-6.85807606, -0.23014852, -0.60224402, ..., -0.27966742,\n",
              "        -0.24981381, -0.22769073],\n",
              "       [-0.04787323, -0.30674467, -0.13416706, ..., -0.29948071,\n",
              "        -0.27346129, -0.27537288]])"
            ]
          },
          "metadata": {
            "tags": []
          },
          "execution_count": 22
        }
      ]
    },
    {
      "cell_type": "code",
      "metadata": {
        "id": "ZGdaOsm-32mm",
        "colab": {
          "base_uri": "https://localhost:8080/",
          "height": 193
        },
        "outputId": "7ef39985-fd60-4aad-cd0f-2bdeb6375e61"
      },
      "source": [
        "#print(training_dataset_list[2].split(',')[5])\n",
        "#single data predict\n",
        "\n",
        "test_month   = 1     #월 \n",
        "test_day     = 5     #평 - 3, 토 - 5, 일 - 7\n",
        "test_station = 1     #서울역(1) – 시청(2) – 종각(3) – 종로3가(4) – 종로5가(5) – 동대문(6)– 동묘앞(7) – 신설동(8) – 제기동(9) - 청량리(10)\n",
        "test_time    = 16    #시간     \n",
        "\n",
        "test_result = pct.feedforward(np.asfarray([test_month, test_day, test_station, (float)(test_time/2) - 2]))\n",
        "for i in range(10):\n",
        "    print(\"possiblity of level\",i+1, \"is\", round(test_result[i],4))"
      ],
      "execution_count": null,
      "outputs": [
        {
          "output_type": "stream",
          "text": [
            "possiblity of level 1 is 0.0\n",
            "possiblity of level 2 is 0.0\n",
            "possiblity of level 3 is 0.0\n",
            "possiblity of level 4 is 0.0\n",
            "possiblity of level 5 is 0.0\n",
            "possiblity of level 6 is 0.0005\n",
            "possiblity of level 7 is 0.1083\n",
            "possiblity of level 8 is 0.304\n",
            "possiblity of level 9 is 0.0061\n",
            "possiblity of level 10 is 0.0\n"
          ],
          "name": "stdout"
        }
      ]
    },
    {
      "cell_type": "code",
      "metadata": {
        "id": "IU5_fLyue2kA",
        "colab": {
          "base_uri": "https://localhost:8080/",
          "height": 295
        },
        "outputId": "9a9f78de-db2c-43f3-f39e-a6db3706f8bf"
      },
      "source": [
        "#prediction by time\n",
        "import matplotlib as mpl\n",
        "import matplotlib.pylab as plt\n",
        "\n",
        "test_month   = 6     #월 \n",
        "test_day     = 3     #평 - 3, 토 - 5, 일 - 7\n",
        "test_station = 1     #서울역(1) – 시청(2) – 종각(3) – 종로3가(4) – 종로5가(5) – 동대문(6)– 동묘앞(7) – 신설동(8) – 제기동(9) - 청량리(10)\n",
        "\n",
        "index_by_time = list()\n",
        "\n",
        "for i in range(5,25):\n",
        "     test_result = pct.feedforward(np.asfarray([test_month, test_day, test_station, ((float)(i)/2) - 2]))\n",
        "     Crowdness_prediction = np.argmax(test_result)+1\n",
        "     index_by_time.append(Crowdness_prediction)\n",
        "\n",
        "plt.title(\"Crowdness by time in MLP\")\n",
        "plt.plot(range(5,25), index_by_time, lw=5, marker=\"o\",  mew=5, mfc=\"r\")\n",
        "plt.grid()\n",
        "plt.xticks(range(5,25))\n",
        "plt.yticks(range(0,11))\n",
        "plt.xlabel(\"time(hour)\")\n",
        "plt.ylabel(\"Crowdness index\")\n",
        "plt.show()"
      ],
      "execution_count": null,
      "outputs": [
        {
          "output_type": "display_data",
          "data": {
            "image/png": "[encoded data removed]",
            "text/plain": [
              "<Figure size 432x288 with 1 Axes>"
            ]
          },
          "metadata": {
            "tags": [],
            "needs_background": "light"
          }
        }
      ]
    },
    {
      "cell_type": "code",
      "metadata": {
        "id": "E9lVZe7JiZfW"
      },
      "source": [
        "#test data\n",
        "test_dataset_file = open(\"/content/gdrive/My Drive/line1_preprocessed by index_test.csv\",'r',encoding='utf-8-sig')\n",
        "\n",
        "test_dataset_list = test_dataset_file.readlines()\n",
        "test_dataset_file.close()"
      ],
      "execution_count": null,
      "outputs": []
    },
    {
      "cell_type": "code",
      "metadata": {
        "id": "nokJRdfZD9n-",
        "colab": {
          "base_uri": "https://localhost:8080/",
          "height": 122
        },
        "outputId": "a6d820ad-1a45-4a8e-e347-08d531478fad"
      },
      "source": [
        "#error rate\n",
        "success = 0\n",
        "near_success = 0\n",
        "failure = 0\n",
        "target_predict_distance = list()\n",
        "\n",
        "error_list = list()\n",
        "\n",
        "for i in test_dataset_list:\n",
        "    #테스트 데이터 가공. target은 각 행의 1열\n",
        "    all_values = i.split(',')\n",
        "    error_time_num = 0\n",
        "\n",
        "    for time in range(5,25):\n",
        "        prediction_list = pct.feedforward(np.asfarray([(int)(all_values[0]),(int)(all_values[1]),(int)(all_values[2]),((float)(time)/2) - 2]))\n",
        "        prediction = np.argmax(prediction_list)+1\n",
        "\n",
        "        #예측이 맞으면 성공, 틀리면 실패\n",
        "        if (int)(all_values[time-2]) == prediction:\n",
        "            success += 1\n",
        "        elif abs((int)(all_values[time-2]) - prediction) == 1:\n",
        "            near_success += 1\n",
        "        else :\n",
        "            failure += 1\n",
        "            error_time_num += 1\n",
        "        \n",
        "        target_predict_distance.append(abs((int)(all_values[time-2]) - prediction))\n",
        "\n",
        "        if (error_time_num > 15) :\n",
        "            error_list.append(all_values)\n",
        "\n",
        "\n",
        "#Error rate와 Error 자료의 수를 표시\n",
        "print(\"MLP error rate\")\n",
        "print(\"success rate = \", (success+near_success)/(success+near_success+failure))\n",
        "print(\"failure rate = \", (failure/(success+near_success+failure)))\n",
        "print(\"Critically success rate=\", success/(success+near_success+failure))\n",
        "print(\"nearly success rate=\", near_success/(success+near_success+failure))\n",
        "print(\"Total \", failure,\"Error cases\")"
      ],
      "execution_count": null,
      "outputs": [
        {
          "output_type": "stream",
          "text": [
            "MLP error rate\n",
            "success rate =  0.7487397260273972\n",
            "failure rate =  0.25126027397260275\n",
            "Critically success rate= 0.4629041095890411\n",
            "nearly success rate= 0.28583561643835614\n",
            "Total  18342 Error cases\n"
          ],
          "name": "stdout"
        }
      ]
    },
    {
      "cell_type": "code",
      "metadata": {
        "id": "HUk_WNYYNinO",
        "colab": {
          "base_uri": "https://localhost:8080/",
          "height": 34
        },
        "outputId": "7ba020d6-7525-40d8-a8f3-eb485324d070"
      },
      "source": [
        "len(error_list)"
      ],
      "execution_count": null,
      "outputs": [
        {
          "output_type": "execute_result",
          "data": {
            "text/plain": [
              "62"
            ]
          },
          "metadata": {
            "tags": []
          },
          "execution_count": 27
        }
      ]
    },
    {
      "cell_type": "code",
      "metadata": {
        "id": "DgDxpALHOJo8",
        "colab": {
          "base_uri": "https://localhost:8080/",
          "height": 295
        },
        "outputId": "91e935bb-1a01-435b-acbd-8ac2c4c485c3"
      },
      "source": [
        "#error case analysis\n",
        "import matplotlib as mpl\n",
        "import matplotlib.pylab as plt\n",
        "\n",
        "error_list_index = 9\n",
        "\n",
        "test_month   = error_list[error_list_index][0]     #월 \n",
        "test_day     = error_list[error_list_index][1]     #평 - 3, 토 - 5, 일 - 7\n",
        "test_station = error_list[error_list_index][2]     #서울역(1) – 시청(2) – 종각(3) – 종로3가(4) – 종로5가(5) – 동대문(6)– 동묘앞(7) – 신설동(8) – 제기동(9) - 청량리(10)\n",
        "\n",
        "index_by_time = list()\n",
        "index_by_time_test = list()\n",
        "\n",
        "for i in range(5,25):\n",
        "     test_result = pct.feedforward(np.asfarray([test_month, test_day, test_station, ((float)(i)/2) - 2]))\n",
        "     Crowdness_prediction = np.argmax(test_result)+1\n",
        "     index_by_time.append(Crowdness_prediction)\n",
        "     index_by_time_test.append(error_list[error_list_index][i-2])\n",
        "\n",
        "title = \"error case\" + (str)(error_list_index) + \", input = \" + (str)(error_list[error_list_index][0:3])\n",
        "plt.title(title)\n",
        "plt.plot(range(5,25), index_by_time, lw=5, marker=\"o\",  mew=5, mfc=\"r\")\n",
        "plt.plot(range(5,25), index_by_time_test, lw=5, marker=\"o\",  mew=5, mfc=\"r\", color = \"red\")\n",
        "plt.grid()\n",
        "plt.xticks(range(5,25))\n",
        "plt.yticks(range(0,11))\n",
        "plt.xlabel(\"time(hour)\")\n",
        "plt.ylabel(\"Crowdness index\")\n",
        "\n",
        "plt.show()"
      ],
      "execution_count": null,
      "outputs": [
        {
          "output_type": "display_data",
          "data": {
            "image/png": "[encoded data removed]",
            "text/plain": [
              "<Figure size 432x288 with 1 Axes>"
            ]
          },
          "metadata": {
            "tags": [],
            "needs_background": "light"
          }
        }
      ]
    },
    {
      "cell_type": "code",
      "metadata": {
        "id": "zV2kI1DVLjmA"
      },
      "source": [
        "#prediction과 target사이의 차이\n",
        "dist = np.zeros(10)\n",
        "for j in range(10):\n",
        "    for i in target_predict_distance:\n",
        "        if (i == j):\n",
        "            dist[j] += 1"
      ],
      "execution_count": null,
      "outputs": []
    },
    {
      "cell_type": "code",
      "metadata": {
        "id": "yWg2RQ9iHWCG",
        "colab": {
          "base_uri": "https://localhost:8080/",
          "height": 295
        },
        "outputId": "ad46b619-f61b-4146-cf04-40ec8e169e2e"
      },
      "source": [
        "import matplotlib as mpl\n",
        "import matplotlib.pylab as plt\n",
        "\n",
        "plt.title(\"target-predict difference in MLP\")\n",
        "plt.plot(range(10),dist)\n",
        "plt.yticks([0,10000,20000,30000,40000,50000])\n",
        "plt.xticks(range(10))\n",
        "plt.grid()\n",
        "plt.xlabel(\"difference\")\n",
        "plt.ylabel(\"number of cases\")\n",
        "plt.show()"
      ],
      "execution_count": null,
      "outputs": [
        {
          "output_type": "display_data",
          "data": {
            "image/png": "[encoded data removed]",
            "text/plain": [
              "<Figure size 432x288 with 1 Axes>"
            ]
          },
          "metadata": {
            "tags": [],
            "needs_background": "light"
          }
        }
      ]
    },
    {
      "cell_type": "code",
      "metadata": {
        "id": "i-M779UcRcTL",
        "colab": {
          "base_uri": "https://localhost:8080/",
          "height": 34
        },
        "outputId": "92e324ed-2227-4824-f279-eb993e824706"
      },
      "source": [
        "np.sum(dist[0:3])/np.sum(dist)"
      ],
      "execution_count": null,
      "outputs": [
        {
          "output_type": "execute_result",
          "data": {
            "text/plain": [
              "0.8768219178082192"
            ]
          },
          "metadata": {
            "tags": []
          },
          "execution_count": 31
        }
      ]
    },
    {
      "cell_type": "code",
      "metadata": {
        "id": "UuCciHLMzlxU"
      },
      "source": [
        ""
      ],
      "execution_count": null,
      "outputs": []
    }
  ]
}